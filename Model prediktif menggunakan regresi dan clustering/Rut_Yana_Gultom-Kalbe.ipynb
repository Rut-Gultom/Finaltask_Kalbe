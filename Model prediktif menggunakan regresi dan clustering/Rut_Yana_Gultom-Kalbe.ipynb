{
  "nbformat": 4,
  "nbformat_minor": 0,
  "metadata": {
    "colab": {
      "provenance": []
    },
    "kernelspec": {
      "name": "python3",
      "display_name": "Python 3"
    },
    "language_info": {
      "name": "python"
    }
  },
  "cells": [
    {
      "cell_type": "code",
      "source": [
        "import pandas as pd\n",
        "import statsmodels.api as sm\n",
        "import matplotlib.pyplot as plt\n",
        "from statsmodels.tsa.arima.model import ARIMA\n",
        "from sklearn.cluster import KMeans"
      ],
      "metadata": {
        "id": "ec3527HeLvKj"
      },
      "execution_count": null,
      "outputs": []
    },
    {
      "cell_type": "code",
      "source": [
        "file1_path = \"customer.csv\"\n",
        "file2_path = \"product.csv\"\n",
        "file3_path = \"store.csv\"\n",
        "file4_path = \"transaction.csv\"\n",
        "\n",
        "df1 = pd.read_csv(file1_path)\n",
        "df2 = pd.read_csv(file2_path)\n",
        "df3 = pd.read_csv(file3_path)\n",
        "df4 = pd.read_csv(file4_path)"
      ],
      "metadata": {
        "id": "QAhtCcEkMrNW"
      },
      "execution_count": null,
      "outputs": []
    },
    {
      "cell_type": "code",
      "source": [
        "# Melihat tampilan data\n",
        "df1.head()\n",
        "df2.head()\n",
        "df3.head()\n",
        "df4.head()"
      ],
      "metadata": {
        "colab": {
          "base_uri": "https://localhost:8080/",
          "height": 243
        },
        "id": "Pdke1yBvPspp",
        "outputId": "97a41d56-c33b-4a62-d444-da1eccd304fb"
      },
      "execution_count": null,
      "outputs": [
        {
          "output_type": "execute_result",
          "data": {
            "text/plain": [
              "  TransactionID  CustomerID        Date ProductID  Price  Qty  TotalAmount  \\\n",
              "0       TR11369         328  01/01/2022        P3   7500    4        30000   \n",
              "1       TR16356         165  01/01/2022        P9  10000    7        70000   \n",
              "2        TR1984         183  01/01/2022        P1   8800    4        35200   \n",
              "3       TR35256         160  01/01/2022        P1   8800    7        61600   \n",
              "4       TR41231         386  01/01/2022        P9  10000    1        10000   \n",
              "\n",
              "   StoreID  \n",
              "0       12  \n",
              "1        1  \n",
              "2        4  \n",
              "3        4  \n",
              "4        4  "
            ],
            "text/html": [
              "\n",
              "\n",
              "  <div id=\"df-60823c42-47fa-42ef-ae60-55c64d91084f\">\n",
              "    <div class=\"colab-df-container\">\n",
              "      <div>\n",
              "<style scoped>\n",
              "    .dataframe tbody tr th:only-of-type {\n",
              "        vertical-align: middle;\n",
              "    }\n",
              "\n",
              "    .dataframe tbody tr th {\n",
              "        vertical-align: top;\n",
              "    }\n",
              "\n",
              "    .dataframe thead th {\n",
              "        text-align: right;\n",
              "    }\n",
              "</style>\n",
              "<table border=\"1\" class=\"dataframe\">\n",
              "  <thead>\n",
              "    <tr style=\"text-align: right;\">\n",
              "      <th></th>\n",
              "      <th>TransactionID</th>\n",
              "      <th>CustomerID</th>\n",
              "      <th>Date</th>\n",
              "      <th>ProductID</th>\n",
              "      <th>Price</th>\n",
              "      <th>Qty</th>\n",
              "      <th>TotalAmount</th>\n",
              "      <th>StoreID</th>\n",
              "    </tr>\n",
              "  </thead>\n",
              "  <tbody>\n",
              "    <tr>\n",
              "      <th>0</th>\n",
              "      <td>TR11369</td>\n",
              "      <td>328</td>\n",
              "      <td>01/01/2022</td>\n",
              "      <td>P3</td>\n",
              "      <td>7500</td>\n",
              "      <td>4</td>\n",
              "      <td>30000</td>\n",
              "      <td>12</td>\n",
              "    </tr>\n",
              "    <tr>\n",
              "      <th>1</th>\n",
              "      <td>TR16356</td>\n",
              "      <td>165</td>\n",
              "      <td>01/01/2022</td>\n",
              "      <td>P9</td>\n",
              "      <td>10000</td>\n",
              "      <td>7</td>\n",
              "      <td>70000</td>\n",
              "      <td>1</td>\n",
              "    </tr>\n",
              "    <tr>\n",
              "      <th>2</th>\n",
              "      <td>TR1984</td>\n",
              "      <td>183</td>\n",
              "      <td>01/01/2022</td>\n",
              "      <td>P1</td>\n",
              "      <td>8800</td>\n",
              "      <td>4</td>\n",
              "      <td>35200</td>\n",
              "      <td>4</td>\n",
              "    </tr>\n",
              "    <tr>\n",
              "      <th>3</th>\n",
              "      <td>TR35256</td>\n",
              "      <td>160</td>\n",
              "      <td>01/01/2022</td>\n",
              "      <td>P1</td>\n",
              "      <td>8800</td>\n",
              "      <td>7</td>\n",
              "      <td>61600</td>\n",
              "      <td>4</td>\n",
              "    </tr>\n",
              "    <tr>\n",
              "      <th>4</th>\n",
              "      <td>TR41231</td>\n",
              "      <td>386</td>\n",
              "      <td>01/01/2022</td>\n",
              "      <td>P9</td>\n",
              "      <td>10000</td>\n",
              "      <td>1</td>\n",
              "      <td>10000</td>\n",
              "      <td>4</td>\n",
              "    </tr>\n",
              "  </tbody>\n",
              "</table>\n",
              "</div>\n",
              "      <button class=\"colab-df-convert\" onclick=\"convertToInteractive('df-60823c42-47fa-42ef-ae60-55c64d91084f')\"\n",
              "              title=\"Convert this dataframe to an interactive table.\"\n",
              "              style=\"display:none;\">\n",
              "\n",
              "  <svg xmlns=\"http://www.w3.org/2000/svg\" height=\"24px\"viewBox=\"0 0 24 24\"\n",
              "       width=\"24px\">\n",
              "    <path d=\"M0 0h24v24H0V0z\" fill=\"none\"/>\n",
              "    <path d=\"M18.56 5.44l.94 2.06.94-2.06 2.06-.94-2.06-.94-.94-2.06-.94 2.06-2.06.94zm-11 1L8.5 8.5l.94-2.06 2.06-.94-2.06-.94L8.5 2.5l-.94 2.06-2.06.94zm10 10l.94 2.06.94-2.06 2.06-.94-2.06-.94-.94-2.06-.94 2.06-2.06.94z\"/><path d=\"M17.41 7.96l-1.37-1.37c-.4-.4-.92-.59-1.43-.59-.52 0-1.04.2-1.43.59L10.3 9.45l-7.72 7.72c-.78.78-.78 2.05 0 2.83L4 21.41c.39.39.9.59 1.41.59.51 0 1.02-.2 1.41-.59l7.78-7.78 2.81-2.81c.8-.78.8-2.07 0-2.86zM5.41 20L4 18.59l7.72-7.72 1.47 1.35L5.41 20z\"/>\n",
              "  </svg>\n",
              "      </button>\n",
              "\n",
              "\n",
              "\n",
              "    <div id=\"df-de589ac0-c1da-47ba-b2fe-a08661b73dcb\">\n",
              "      <button class=\"colab-df-quickchart\" onclick=\"quickchart('df-de589ac0-c1da-47ba-b2fe-a08661b73dcb')\"\n",
              "              title=\"Suggest charts.\"\n",
              "              style=\"display:none;\">\n",
              "\n",
              "<svg xmlns=\"http://www.w3.org/2000/svg\" height=\"24px\"viewBox=\"0 0 24 24\"\n",
              "     width=\"24px\">\n",
              "    <g>\n",
              "        <path d=\"M19 3H5c-1.1 0-2 .9-2 2v14c0 1.1.9 2 2 2h14c1.1 0 2-.9 2-2V5c0-1.1-.9-2-2-2zM9 17H7v-7h2v7zm4 0h-2V7h2v10zm4 0h-2v-4h2v4z\"/>\n",
              "    </g>\n",
              "</svg>\n",
              "      </button>\n",
              "    </div>\n",
              "\n",
              "<style>\n",
              "  .colab-df-quickchart {\n",
              "    background-color: #E8F0FE;\n",
              "    border: none;\n",
              "    border-radius: 50%;\n",
              "    cursor: pointer;\n",
              "    display: none;\n",
              "    fill: #1967D2;\n",
              "    height: 32px;\n",
              "    padding: 0 0 0 0;\n",
              "    width: 32px;\n",
              "  }\n",
              "\n",
              "  .colab-df-quickchart:hover {\n",
              "    background-color: #E2EBFA;\n",
              "    box-shadow: 0px 1px 2px rgba(60, 64, 67, 0.3), 0px 1px 3px 1px rgba(60, 64, 67, 0.15);\n",
              "    fill: #174EA6;\n",
              "  }\n",
              "\n",
              "  [theme=dark] .colab-df-quickchart {\n",
              "    background-color: #3B4455;\n",
              "    fill: #D2E3FC;\n",
              "  }\n",
              "\n",
              "  [theme=dark] .colab-df-quickchart:hover {\n",
              "    background-color: #434B5C;\n",
              "    box-shadow: 0px 1px 3px 1px rgba(0, 0, 0, 0.15);\n",
              "    filter: drop-shadow(0px 1px 2px rgba(0, 0, 0, 0.3));\n",
              "    fill: #FFFFFF;\n",
              "  }\n",
              "</style>\n",
              "\n",
              "    <script>\n",
              "      async function quickchart(key) {\n",
              "        const containerElement = document.querySelector('#' + key);\n",
              "        const charts = await google.colab.kernel.invokeFunction(\n",
              "            'suggestCharts', [key], {});\n",
              "      }\n",
              "    </script>\n",
              "\n",
              "      <script>\n",
              "\n",
              "function displayQuickchartButton(domScope) {\n",
              "  let quickchartButtonEl =\n",
              "    domScope.querySelector('#df-de589ac0-c1da-47ba-b2fe-a08661b73dcb button.colab-df-quickchart');\n",
              "  quickchartButtonEl.style.display =\n",
              "    google.colab.kernel.accessAllowed ? 'block' : 'none';\n",
              "}\n",
              "\n",
              "        displayQuickchartButton(document);\n",
              "      </script>\n",
              "      <style>\n",
              "    .colab-df-container {\n",
              "      display:flex;\n",
              "      flex-wrap:wrap;\n",
              "      gap: 12px;\n",
              "    }\n",
              "\n",
              "    .colab-df-convert {\n",
              "      background-color: #E8F0FE;\n",
              "      border: none;\n",
              "      border-radius: 50%;\n",
              "      cursor: pointer;\n",
              "      display: none;\n",
              "      fill: #1967D2;\n",
              "      height: 32px;\n",
              "      padding: 0 0 0 0;\n",
              "      width: 32px;\n",
              "    }\n",
              "\n",
              "    .colab-df-convert:hover {\n",
              "      background-color: #E2EBFA;\n",
              "      box-shadow: 0px 1px 2px rgba(60, 64, 67, 0.3), 0px 1px 3px 1px rgba(60, 64, 67, 0.15);\n",
              "      fill: #174EA6;\n",
              "    }\n",
              "\n",
              "    [theme=dark] .colab-df-convert {\n",
              "      background-color: #3B4455;\n",
              "      fill: #D2E3FC;\n",
              "    }\n",
              "\n",
              "    [theme=dark] .colab-df-convert:hover {\n",
              "      background-color: #434B5C;\n",
              "      box-shadow: 0px 1px 3px 1px rgba(0, 0, 0, 0.15);\n",
              "      filter: drop-shadow(0px 1px 2px rgba(0, 0, 0, 0.3));\n",
              "      fill: #FFFFFF;\n",
              "    }\n",
              "  </style>\n",
              "\n",
              "      <script>\n",
              "        const buttonEl =\n",
              "          document.querySelector('#df-60823c42-47fa-42ef-ae60-55c64d91084f button.colab-df-convert');\n",
              "        buttonEl.style.display =\n",
              "          google.colab.kernel.accessAllowed ? 'block' : 'none';\n",
              "\n",
              "        async function convertToInteractive(key) {\n",
              "          const element = document.querySelector('#df-60823c42-47fa-42ef-ae60-55c64d91084f');\n",
              "          const dataTable =\n",
              "            await google.colab.kernel.invokeFunction('convertToInteractive',\n",
              "                                                     [key], {});\n",
              "          if (!dataTable) return;\n",
              "\n",
              "          const docLinkHtml = 'Like what you see? Visit the ' +\n",
              "            '<a target=\"_blank\" href=https://colab.research.google.com/notebooks/data_table.ipynb>data table notebook</a>'\n",
              "            + ' to learn more about interactive tables.';\n",
              "          element.innerHTML = '';\n",
              "          dataTable['output_type'] = 'display_data';\n",
              "          await google.colab.output.renderOutput(dataTable, element);\n",
              "          const docLink = document.createElement('div');\n",
              "          docLink.innerHTML = docLinkHtml;\n",
              "          element.appendChild(docLink);\n",
              "        }\n",
              "      </script>\n",
              "    </div>\n",
              "  </div>\n"
            ]
          },
          "metadata": {},
          "execution_count": 8
        }
      ]
    },
    {
      "cell_type": "code",
      "source": [
        "# Tampilkan informasi tentang setiap DataFrame\n",
        "df1.info()\n",
        "df2.info()\n",
        "df3.info()\n",
        "df4.info()"
      ],
      "metadata": {
        "colab": {
          "base_uri": "https://localhost:8080/"
        },
        "id": "io3_FU21N2FG",
        "outputId": "639040d5-80cd-4ed1-aab3-246c688b9ed9"
      },
      "execution_count": null,
      "outputs": [
        {
          "output_type": "stream",
          "name": "stdout",
          "text": [
            "<class 'pandas.core.frame.DataFrame'>\n",
            "RangeIndex: 447 entries, 0 to 446\n",
            "Data columns (total 5 columns):\n",
            " #   Column          Non-Null Count  Dtype \n",
            "---  ------          --------------  ----- \n",
            " 0   CustomerID      447 non-null    int64 \n",
            " 1   Age             447 non-null    int64 \n",
            " 2   Gender          447 non-null    int64 \n",
            " 3   Marital Status  444 non-null    object\n",
            " 4   Income          447 non-null    int64 \n",
            "dtypes: int64(4), object(1)\n",
            "memory usage: 17.6+ KB\n",
            "<class 'pandas.core.frame.DataFrame'>\n",
            "RangeIndex: 10 entries, 0 to 9\n",
            "Data columns (total 3 columns):\n",
            " #   Column        Non-Null Count  Dtype \n",
            "---  ------        --------------  ----- \n",
            " 0   ProductID     10 non-null     object\n",
            " 1   Product Name  10 non-null     object\n",
            " 2   Price         10 non-null     int64 \n",
            "dtypes: int64(1), object(2)\n",
            "memory usage: 368.0+ bytes\n",
            "<class 'pandas.core.frame.DataFrame'>\n",
            "RangeIndex: 14 entries, 0 to 13\n",
            "Data columns (total 6 columns):\n",
            " #   Column      Non-Null Count  Dtype \n",
            "---  ------      --------------  ----- \n",
            " 0   StoreID     14 non-null     int64 \n",
            " 1   StoreName   14 non-null     object\n",
            " 2   GroupStore  14 non-null     object\n",
            " 3   Type        14 non-null     object\n",
            " 4   Latitude    14 non-null     int64 \n",
            " 5   Longitude   14 non-null     int64 \n",
            "dtypes: int64(3), object(3)\n",
            "memory usage: 800.0+ bytes\n",
            "<class 'pandas.core.frame.DataFrame'>\n",
            "RangeIndex: 5020 entries, 0 to 5019\n",
            "Data columns (total 8 columns):\n",
            " #   Column         Non-Null Count  Dtype \n",
            "---  ------         --------------  ----- \n",
            " 0   TransactionID  5020 non-null   object\n",
            " 1   CustomerID     5020 non-null   int64 \n",
            " 2   Date           5020 non-null   object\n",
            " 3   ProductID      5020 non-null   object\n",
            " 4   Price          5020 non-null   int64 \n",
            " 5   Qty            5020 non-null   int64 \n",
            " 6   TotalAmount    5020 non-null   int64 \n",
            " 7   StoreID        5020 non-null   int64 \n",
            "dtypes: int64(5), object(3)\n",
            "memory usage: 313.9+ KB\n"
          ]
        }
      ]
    },
    {
      "cell_type": "markdown",
      "source": [
        "## Identifikasi masalah dalam data:"
      ],
      "metadata": {
        "id": "aMMK3_yJNZaP"
      }
    },
    {
      "cell_type": "code",
      "source": [
        "# Contoh mengidentifikasi nilai-nilai yang hilang pada setiap DataFrame\n",
        "print(df1.isnull().sum())\n",
        "print(df2.isnull().sum())\n",
        "print(df3.isnull().sum())\n",
        "print(df4.isnull().sum())\n",
        "\n",
        "# Contoh mengidentifikasi nilai-nilai duplikat pada setiap DataFrame\n",
        "print(df1.duplicated().sum())\n",
        "print(df2.duplicated().sum())\n",
        "print(df3.duplicated().sum())\n",
        "print(df4.duplicated().sum())\n"
      ],
      "metadata": {
        "colab": {
          "base_uri": "https://localhost:8080/"
        },
        "id": "Nu253ufTM72a",
        "outputId": "ec571dc4-15c8-41e5-9d1e-57780a3aab85"
      },
      "execution_count": null,
      "outputs": [
        {
          "output_type": "stream",
          "name": "stdout",
          "text": [
            "CustomerID        0\n",
            "Age               0\n",
            "Gender            0\n",
            "Marital Status    3\n",
            "Income            0\n",
            "dtype: int64\n",
            "ProductID       0\n",
            "Product Name    0\n",
            "Price           0\n",
            "dtype: int64\n",
            "StoreID       0\n",
            "StoreName     0\n",
            "GroupStore    0\n",
            "Type          0\n",
            "Latitude      0\n",
            "Longitude     0\n",
            "dtype: int64\n",
            "TransactionID    0\n",
            "CustomerID       0\n",
            "Date             0\n",
            "ProductID        0\n",
            "Price            0\n",
            "Qty              0\n",
            "TotalAmount      0\n",
            "StoreID          0\n",
            "dtype: int64\n",
            "0\n",
            "0\n",
            "0\n",
            "0\n"
          ]
        }
      ]
    },
    {
      "cell_type": "code",
      "source": [
        "# Mengatasi nilai yang hilang\n",
        "df1.fillna(df1.mean(numeric_only=True), inplace=True)\n",
        "df2.fillna(df2.median(numeric_only=True), inplace=True)\n",
        "df3.fillna(df3.mean(numeric_only=True), inplace=True)\n",
        "df4.fillna(df4.median(numeric_only=True), inplace=True)"
      ],
      "metadata": {
        "id": "rmSkuHp_NdxV"
      },
      "execution_count": null,
      "outputs": []
    },
    {
      "cell_type": "code",
      "source": [
        "# Menghapus nilai duplikat:\n",
        "\n",
        "df1.drop_duplicates(inplace=True)\n",
        "df2.drop_duplicates(inplace=True)\n",
        "df3.drop_duplicates(inplace=True)\n",
        "df4.drop_duplicates(inplace=True)"
      ],
      "metadata": {
        "id": "lKyF3J9gQTex"
      },
      "execution_count": null,
      "outputs": []
    },
    {
      "cell_type": "markdown",
      "source": [
        "## Merge Data"
      ],
      "metadata": {
        "id": "6Ut0RXDVSJSw"
      }
    },
    {
      "cell_type": "code",
      "source": [
        "# 1. Gabungkan tabel customer dan transaction berdasarkan kolom \"CustomerID\"\n",
        "merged_customer_transaction = pd.merge(df1, df4, on=\"CustomerID\", how=\"inner\")"
      ],
      "metadata": {
        "id": "RoAoptWOQbsh"
      },
      "execution_count": null,
      "outputs": []
    },
    {
      "cell_type": "code",
      "source": [
        "# 2. Gabungkan hasil langkah 1 dengan tabel product berdasarkan kolom \"ProductID\"\n",
        "merged_customer_transaction_product = pd.merge(merged_customer_transaction, df2, on=\"ProductID\", how=\"inner\")"
      ],
      "metadata": {
        "id": "PqjqX_W6SYpO"
      },
      "execution_count": null,
      "outputs": []
    },
    {
      "cell_type": "code",
      "source": [
        "# 3. Gabungkan hasil langkah 2 dengan tabel store berdasarkan kolom \"StoreID\"\n",
        "final_merged_data = pd.merge(merged_customer_transaction_product, df3, on=\"StoreID\", how=\"inner\")"
      ],
      "metadata": {
        "id": "nAmHMozjSiLw"
      },
      "execution_count": null,
      "outputs": []
    },
    {
      "cell_type": "code",
      "source": [
        "final_merged_data.to_csv(\"final_merged_data.csv\", index=False)"
      ],
      "metadata": {
        "id": "ZIg6ZCC7SqZ0"
      },
      "execution_count": null,
      "outputs": []
    },
    {
      "cell_type": "markdown",
      "source": [
        "## Machine Learning Regression (Time Series)"
      ],
      "metadata": {
        "id": "-p9Doi4OTr1K"
      }
    },
    {
      "cell_type": "code",
      "source": [
        "# Konversi kolom \"Date\" menjadi tipe data datetime\n",
        "final_merged_data[\"Date\"] = pd.to_datetime(final_merged_data[\"Date\"], format=\"%d/%m/%Y\")"
      ],
      "metadata": {
        "id": "IFpeB9-oTpgz"
      },
      "execution_count": null,
      "outputs": []
    },
    {
      "cell_type": "code",
      "source": [
        "# Kelompokkan data berdasarkan kolom \"Date\" dan lakukan agregasi dengan menjumlahkan nilai pada kolom \"Qty\"\n",
        "regression_data = final_merged_data.groupby(\"Date\")[\"Qty\"].sum().reset_index()"
      ],
      "metadata": {
        "id": "3x0rmu0ITpcD"
      },
      "execution_count": null,
      "outputs": []
    },
    {
      "cell_type": "code",
      "source": [
        "# Tampilkan data baru yang telah diagregasi untuk regresi\n",
        "print(regression_data)"
      ],
      "metadata": {
        "colab": {
          "base_uri": "https://localhost:8080/"
        },
        "id": "vpDYTMb8TpUy",
        "outputId": "9ba94319-ecf0-41bb-813f-809883c19d27"
      },
      "execution_count": null,
      "outputs": [
        {
          "output_type": "stream",
          "name": "stdout",
          "text": [
            "          Date  Qty\n",
            "0   2022-01-01   49\n",
            "1   2022-01-02   50\n",
            "2   2022-01-03   76\n",
            "3   2022-01-04   98\n",
            "4   2022-01-05   67\n",
            "..         ...  ...\n",
            "360 2022-12-27   70\n",
            "361 2022-12-28   68\n",
            "362 2022-12-29   42\n",
            "363 2022-12-30   44\n",
            "364 2022-12-31   37\n",
            "\n",
            "[365 rows x 2 columns]\n"
          ]
        }
      ]
    },
    {
      "cell_type": "markdown",
      "source": [
        "## AIMA"
      ],
      "metadata": {
        "id": "3jC_ONqsUeuT"
      }
    },
    {
      "cell_type": "code",
      "source": [
        "# Ubah kolom \"Date\" menjadi indeks\n",
        "regression_data.set_index(\"Date\", inplace=True)"
      ],
      "metadata": {
        "id": "PXmie8ZmUgFY"
      },
      "execution_count": null,
      "outputs": []
    },
    {
      "cell_type": "code",
      "source": [
        "# Pastikan data diurutkan berdasarkan tanggal\n",
        "regression_data.sort_index(inplace=True)"
      ],
      "metadata": {
        "id": "rDyHJ-37UhYF"
      },
      "execution_count": null,
      "outputs": []
    },
    {
      "cell_type": "code",
      "source": [
        "# Pilih model ARIMA:\n",
        "fig, (ax1, ax2) = plt.subplots(2, 1, figsize=(10, 8))\n",
        "sm.graphics.tsa.plot_acf(regression_data[\"Qty\"], lags=50, ax=ax1)\n",
        "sm.graphics.tsa.plot_pacf(regression_data[\"Qty\"], lags=50, ax=ax2)\n",
        "plt.show()"
      ],
      "metadata": {
        "colab": {
          "base_uri": "https://localhost:8080/",
          "height": 745
        },
        "id": "xpAAwBIgUkQ-",
        "outputId": "80eccead-f59d-4e56-d08c-d7bb461572c4"
      },
      "execution_count": null,
      "outputs": [
        {
          "output_type": "stream",
          "name": "stderr",
          "text": [
            "/usr/local/lib/python3.10/dist-packages/statsmodels/graphics/tsaplots.py:348: FutureWarning: The default method 'yw' can produce PACF values outside of the [-1,1] interval. After 0.13, the default will change tounadjusted Yule-Walker ('ywm'). You can use this method now by setting method='ywm'.\n",
            "  warnings.warn(\n"
          ]
        },
        {
          "output_type": "display_data",
          "data": {
            "text/plain": [
              "<Figure size 1000x800 with 2 Axes>"
            ],
            "image/png": "[encoded data removed]"
          },
          "metadata": {}
        }
      ]
    },
    {
      "cell_type": "code",
      "source": [
        "# Fit model ARIMA:\n",
        "p, d, q = 2, 1, 2\n",
        "model = ARIMA(regression_data[\"Qty\"], order=(p, d, q))\n",
        "results = model.fit()"
      ],
      "metadata": {
        "colab": {
          "base_uri": "https://localhost:8080/"
        },
        "id": "T01xoag0UsU6",
        "outputId": "ce2a1de2-6c88-4232-ed51-4046a9ef8d08"
      },
      "execution_count": null,
      "outputs": [
        {
          "output_type": "stream",
          "name": "stderr",
          "text": [
            "/usr/local/lib/python3.10/dist-packages/statsmodels/tsa/base/tsa_model.py:471: ValueWarning: No frequency information was provided, so inferred frequency D will be used.\n",
            "  self._init_dates(dates, freq)\n",
            "/usr/local/lib/python3.10/dist-packages/statsmodels/tsa/base/tsa_model.py:471: ValueWarning: No frequency information was provided, so inferred frequency D will be used.\n",
            "  self._init_dates(dates, freq)\n",
            "/usr/local/lib/python3.10/dist-packages/statsmodels/tsa/base/tsa_model.py:471: ValueWarning: No frequency information was provided, so inferred frequency D will be used.\n",
            "  self._init_dates(dates, freq)\n"
          ]
        }
      ]
    },
    {
      "cell_type": "code",
      "source": [
        "# Tampilkan ringkasan hasil model ARIMA\n",
        "print(results.summary())"
      ],
      "metadata": {
        "colab": {
          "base_uri": "https://localhost:8080/"
        },
        "id": "kUnpYATlU7lf",
        "outputId": "b57d0c5d-8723-4292-8452-03b52a009219"
      },
      "execution_count": null,
      "outputs": [
        {
          "output_type": "stream",
          "name": "stdout",
          "text": [
            "                               SARIMAX Results                                \n",
            "==============================================================================\n",
            "Dep. Variable:                    Qty   No. Observations:                  365\n",
            "Model:                 ARIMA(2, 1, 2)   Log Likelihood               -1542.751\n",
            "Date:                Thu, 27 Jul 2023   AIC                           3095.502\n",
            "Time:                        03:14:30   BIC                           3114.988\n",
            "Sample:                    01-01-2022   HQIC                          3103.247\n",
            "                         - 12-31-2022                                         \n",
            "Covariance Type:                  opg                                         \n",
            "==============================================================================\n",
            "                 coef    std err          z      P>|z|      [0.025      0.975]\n",
            "------------------------------------------------------------------------------\n",
            "ar.L1         -0.9890      0.073    -13.521      0.000      -1.132      -0.846\n",
            "ar.L2         -0.0030      0.055     -0.055      0.956      -0.111       0.105\n",
            "ma.L1         -0.0046      0.052     -0.088      0.930      -0.107       0.098\n",
            "ma.L2         -0.9600      0.050    -19.065      0.000      -1.059      -0.861\n",
            "sigma2       278.4998     20.633     13.497      0.000     238.059     318.941\n",
            "===================================================================================\n",
            "Ljung-Box (L1) (Q):                   0.04   Jarque-Bera (JB):                10.96\n",
            "Prob(Q):                              0.84   Prob(JB):                         0.00\n",
            "Heteroskedasticity (H):               0.69   Skew:                             0.40\n",
            "Prob(H) (two-sided):                  0.04   Kurtosis:                         3.28\n",
            "===================================================================================\n",
            "\n",
            "Warnings:\n",
            "[1] Covariance matrix calculated using the outer product of gradients (complex-step).\n"
          ]
        }
      ]
    },
    {
      "cell_type": "code",
      "source": [
        "# Melakukan prediksi:\n",
        "# Misalnya, untuk melakukan prediksi 10 langkah ke depan\n",
        "n_steps = 10\n",
        "forecast = results.forecast(steps=n_steps)\n",
        "\n",
        "# Tampilkan hasil prediksi\n",
        "print(forecast)"
      ],
      "metadata": {
        "colab": {
          "base_uri": "https://localhost:8080/"
        },
        "id": "whggj7W-Vzfd",
        "outputId": "4331a076-828a-4b27-ce33-2959935c3722"
      },
      "execution_count": null,
      "outputs": [
        {
          "output_type": "stream",
          "name": "stdout",
          "text": [
            "2023-01-01    48.055551\n",
            "2023-01-02    47.922019\n",
            "2023-01-03    48.020703\n",
            "2023-01-04    47.923510\n",
            "2023-01-05    48.019333\n",
            "2023-01-06    47.924860\n",
            "2023-01-07    48.018003\n",
            "2023-01-08    47.926172\n",
            "2023-01-09    48.016709\n",
            "2023-01-10    47.927448\n",
            "Freq: D, Name: predicted_mean, dtype: float64\n"
          ]
        }
      ]
    },
    {
      "cell_type": "markdown",
      "source": [
        "## Machine Learning Clustering"
      ],
      "metadata": {
        "id": "zJ1SRJwFadw_"
      }
    },
    {
      "cell_type": "code",
      "source": [
        "# Kelompokkan data berdasarkan \"CustomerID\" dan lakukan agregasi\n",
        "clustering_data = final_merged_data.groupby(\"CustomerID\").agg({\n",
        "    \"TransactionID\": \"count\",\n",
        "    \"Qty\": \"sum\",\n",
        "    \"TotalAmount\": \"sum\"\n",
        "}).reset_index()"
      ],
      "metadata": {
        "id": "ntfs6HIKV9fY"
      },
      "execution_count": null,
      "outputs": []
    },
    {
      "cell_type": "code",
      "source": [
        "# Ubah nama kolom hasil agregasi agar lebih jelas\n",
        "clustering_data.columns = [\"CustomerID\", \"TransactionCount\", \"TotalQty\", \"TotalAmount\"]"
      ],
      "metadata": {
        "id": "HrUp-kmGV9br"
      },
      "execution_count": null,
      "outputs": []
    },
    {
      "cell_type": "code",
      "source": [
        "# Tampilkan data baru yang telah diagregasi untuk clustering\n",
        "print(clustering_data)"
      ],
      "metadata": {
        "colab": {
          "base_uri": "https://localhost:8080/"
        },
        "id": "6vZpPJ-4V9Yo",
        "outputId": "9fd9d684-8c97-4857-943b-273f3fb3cea6"
      },
      "execution_count": null,
      "outputs": [
        {
          "output_type": "stream",
          "name": "stdout",
          "text": [
            "     CustomerID  TransactionCount  TotalQty  TotalAmount\n",
            "0             1                17        60       623300\n",
            "1             2                13        57       392300\n",
            "2             3                15        56       446200\n",
            "3             4                10        46       302500\n",
            "4             5                 7        27       268600\n",
            "..          ...               ...       ...          ...\n",
            "442         443                16        59       485100\n",
            "443         444                18        62       577700\n",
            "444         445                18        68       587200\n",
            "445         446                11        42       423300\n",
            "446         447                13        42       439300\n",
            "\n",
            "[447 rows x 4 columns]\n"
          ]
        }
      ]
    },
    {
      "cell_type": "markdown",
      "source": [
        "#### Menggunakan Metode Clustering KMeans:"
      ],
      "metadata": {
        "id": "cfjJ5m8Ua2aW"
      }
    },
    {
      "cell_type": "code",
      "source": [
        "# Pilih kolom untuk clustering\n",
        "X = clustering_data[[\"TransactionCount\", \"TotalQty\", \"TotalAmount\"]]"
      ],
      "metadata": {
        "id": "FgRI6-5Zayc6"
      },
      "execution_count": null,
      "outputs": []
    },
    {
      "cell_type": "code",
      "source": [
        "# Inisialisasi model KMeans dengan jumlah cluster yang diinginkan\n",
        "num_clusters = 3\n",
        "kmeans_model = KMeans(n_clusters=num_clusters, random_state=42)"
      ],
      "metadata": {
        "id": "-yttyDWya8w0"
      },
      "execution_count": null,
      "outputs": []
    },
    {
      "cell_type": "code",
      "source": [
        "# Melatih model dengan data\n",
        "kmeans_model.fit(X)"
      ],
      "metadata": {
        "colab": {
          "base_uri": "https://localhost:8080/",
          "height": 129
        },
        "id": "HV-b7tusbEpb",
        "outputId": "f6954dc0-464b-4315-c3e6-1062823641b5"
      },
      "execution_count": null,
      "outputs": [
        {
          "output_type": "stream",
          "name": "stderr",
          "text": [
            "/usr/local/lib/python3.10/dist-packages/sklearn/cluster/_kmeans.py:870: FutureWarning: The default value of `n_init` will change from 10 to 'auto' in 1.4. Set the value of `n_init` explicitly to suppress the warning\n",
            "  warnings.warn(\n"
          ]
        },
        {
          "output_type": "execute_result",
          "data": {
            "text/plain": [
              "KMeans(n_clusters=3, random_state=42)"
            ],
            "text/html": [
              "<style>#sk-container-id-1 {color: black;background-color: white;}#sk-container-id-1 pre{padding: 0;}#sk-container-id-1 div.sk-toggleable {background-color: white;}#sk-container-id-1 label.sk-toggleable__label {cursor: pointer;display: block;width: 100%;margin-bottom: 0;padding: 0.3em;box-sizing: border-box;text-align: center;}#sk-container-id-1 label.sk-toggleable__label-arrow:before {content: \"▸\";float: left;margin-right: 0.25em;color: #696969;}#sk-container-id-1 label.sk-toggleable__label-arrow:hover:before {color: black;}#sk-container-id-1 div.sk-estimator:hover label.sk-toggleable__label-arrow:before {color: black;}#sk-container-id-1 div.sk-toggleable__content {max-height: 0;max-width: 0;overflow: hidden;text-align: left;background-color: #f0f8ff;}#sk-container-id-1 div.sk-toggleable__content pre {margin: 0.2em;color: black;border-radius: 0.25em;background-color: #f0f8ff;}#sk-container-id-1 input.sk-toggleable__control:checked~div.sk-toggleable__content {max-height: 200px;max-width: 100%;overflow: auto;}#sk-container-id-1 input.sk-toggleable__control:checked~label.sk-toggleable__label-arrow:before {content: \"▾\";}#sk-container-id-1 div.sk-estimator input.sk-toggleable__control:checked~label.sk-toggleable__label {background-color: #d4ebff;}#sk-container-id-1 div.sk-label input.sk-toggleable__control:checked~label.sk-toggleable__label {background-color: #d4ebff;}#sk-container-id-1 input.sk-hidden--visually {border: 0;clip: rect(1px 1px 1px 1px);clip: rect(1px, 1px, 1px, 1px);height: 1px;margin: -1px;overflow: hidden;padding: 0;position: absolute;width: 1px;}#sk-container-id-1 div.sk-estimator {font-family: monospace;background-color: #f0f8ff;border: 1px dotted black;border-radius: 0.25em;box-sizing: border-box;margin-bottom: 0.5em;}#sk-container-id-1 div.sk-estimator:hover {background-color: #d4ebff;}#sk-container-id-1 div.sk-parallel-item::after {content: \"\";width: 100%;border-bottom: 1px solid gray;flex-grow: 1;}#sk-container-id-1 div.sk-label:hover label.sk-toggleable__label {background-color: #d4ebff;}#sk-container-id-1 div.sk-serial::before {content: \"\";position: absolute;border-left: 1px solid gray;box-sizing: border-box;top: 0;bottom: 0;left: 50%;z-index: 0;}#sk-container-id-1 div.sk-serial {display: flex;flex-direction: column;align-items: center;background-color: white;padding-right: 0.2em;padding-left: 0.2em;position: relative;}#sk-container-id-1 div.sk-item {position: relative;z-index: 1;}#sk-container-id-1 div.sk-parallel {display: flex;align-items: stretch;justify-content: center;background-color: white;position: relative;}#sk-container-id-1 div.sk-item::before, #sk-container-id-1 div.sk-parallel-item::before {content: \"\";position: absolute;border-left: 1px solid gray;box-sizing: border-box;top: 0;bottom: 0;left: 50%;z-index: -1;}#sk-container-id-1 div.sk-parallel-item {display: flex;flex-direction: column;z-index: 1;position: relative;background-color: white;}#sk-container-id-1 div.sk-parallel-item:first-child::after {align-self: flex-end;width: 50%;}#sk-container-id-1 div.sk-parallel-item:last-child::after {align-self: flex-start;width: 50%;}#sk-container-id-1 div.sk-parallel-item:only-child::after {width: 0;}#sk-container-id-1 div.sk-dashed-wrapped {border: 1px dashed gray;margin: 0 0.4em 0.5em 0.4em;box-sizing: border-box;padding-bottom: 0.4em;background-color: white;}#sk-container-id-1 div.sk-label label {font-family: monospace;font-weight: bold;display: inline-block;line-height: 1.2em;}#sk-container-id-1 div.sk-label-container {text-align: center;}#sk-container-id-1 div.sk-container {/* jupyter's `normalize.less` sets `[hidden] { display: none; }` but bootstrap.min.css set `[hidden] { display: none !important; }` so we also need the `!important` here to be able to override the default hidden behavior on the sphinx rendered scikit-learn.org. See: https://github.com/scikit-learn/scikit-learn/issues/21755 */display: inline-block !important;position: relative;}#sk-container-id-1 div.sk-text-repr-fallback {display: none;}</style><div id=\"sk-container-id-1\" class=\"sk-top-container\"><div class=\"sk-text-repr-fallback\"><pre>KMeans(n_clusters=3, random_state=42)</pre><b>In a Jupyter environment, please rerun this cell to show the HTML representation or trust the notebook. <br />On GitHub, the HTML representation is unable to render, please try loading this page with nbviewer.org.</b></div><div class=\"sk-container\" hidden><div class=\"sk-item\"><div class=\"sk-estimator sk-toggleable\"><input class=\"sk-toggleable__control sk-hidden--visually\" id=\"sk-estimator-id-1\" type=\"checkbox\" checked><label for=\"sk-estimator-id-1\" class=\"sk-toggleable__label sk-toggleable__label-arrow\">KMeans</label><div class=\"sk-toggleable__content\"><pre>KMeans(n_clusters=3, random_state=42)</pre></div></div></div></div></div>"
            ]
          },
          "metadata": {},
          "execution_count": 43
        }
      ]
    },
    {
      "cell_type": "code",
      "source": [
        "# Menambahkan kolom \"Cluster\" pada DataFrame clustering_data untuk menyimpan hasil clustering\n",
        "clustering_data[\"Cluster\"] = kmeans_model.labels_"
      ],
      "metadata": {
        "id": "YE_VMqfUbEvS"
      },
      "execution_count": null,
      "outputs": []
    },
    {
      "cell_type": "code",
      "source": [
        "# Tampilkan hasil clustering\n",
        "print(clustering_data)"
      ],
      "metadata": {
        "colab": {
          "base_uri": "https://localhost:8080/"
        },
        "id": "ISTk4ULMbEsA",
        "outputId": "8b03767c-cb9b-4cb3-c927-c0cabda8e6ea"
      },
      "execution_count": null,
      "outputs": [
        {
          "output_type": "stream",
          "name": "stdout",
          "text": [
            "     CustomerID  TransactionCount  TotalQty  TotalAmount  Cluster\n",
            "0             1                17        60       623300        2\n",
            "1             2                13        57       392300        0\n",
            "2             3                15        56       446200        0\n",
            "3             4                10        46       302500        1\n",
            "4             5                 7        27       268600        1\n",
            "..          ...               ...       ...          ...      ...\n",
            "442         443                16        59       485100        2\n",
            "443         444                18        62       577700        2\n",
            "444         445                18        68       587200        2\n",
            "445         446                11        42       423300        0\n",
            "446         447                13        42       439300        0\n",
            "\n",
            "[447 rows x 5 columns]\n"
          ]
        }
      ]
    },
    {
      "cell_type": "markdown",
      "source": [
        "#### Visualisasi Hasil Clustering:"
      ],
      "metadata": {
        "id": "7ZYsAQhDbOtZ"
      }
    },
    {
      "cell_type": "code",
      "source": [
        "plt.scatter(clustering_data[\"TotalQty\"], clustering_data[\"TotalAmount\"], c=clustering_data[\"Cluster\"], cmap='rainbow')\n",
        "plt.xlabel(\"Total Qty\")\n",
        "plt.ylabel(\"Total Amount\")\n",
        "plt.title(\"Clustering Result (KMeans)\")\n",
        "plt.show()\n"
      ],
      "metadata": {
        "colab": {
          "base_uri": "https://localhost:8080/",
          "height": 472
        },
        "id": "djWO6eSEbMV2",
        "outputId": "cda01db5-0636-4e1b-bf90-bfa63c7dcd70"
      },
      "execution_count": null,
      "outputs": [
        {
          "output_type": "display_data",
          "data": {
            "text/plain": [
              "<Figure size 640x480 with 1 Axes>"
            ],
            "image/png": "[encoded data removed]"
          },
          "metadata": {}
        }
      ]
    },
    {
      "cell_type": "code",
      "source": [],
      "metadata": {
        "id": "iDvCZVCrbMR0"
      },
      "execution_count": null,
      "outputs": []
    },
    {
      "cell_type": "code",
      "source": [],
      "metadata": {
        "id": "aDj_hU4nbMO1"
      },
      "execution_count": null,
      "outputs": []
    }
  ]
}